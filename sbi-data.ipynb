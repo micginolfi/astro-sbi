{
 "cells": [
  {
   "cell_type": "markdown",
   "metadata": {},
   "source": [
    "## input data\n",
    "data can be the result of a simulation.\n",
    "in this case we have spectra and corresponding redshift."
   ]
  },
  {
   "cell_type": "code",
   "execution_count": 19,
   "metadata": {},
   "outputs": [],
   "source": [
    "import astropy.io.fits as pyfits\n",
    "\n",
    "#load the data\n",
    "hdulist1 = pyfits.open('GALAXY_STARFORMING.fits')\n",
    "\n",
    "header = hdulist1[1].header\n",
    "# print(header.keys)\n",
    "data = hdulist1[1].data\n",
    "\n",
    "\n",
    "redshift = data['Z']\n",
    "spectra = data['int_flux']"
   ]
  },
  {
   "cell_type": "markdown",
   "metadata": {},
   "source": [
    "## Start SBI framework"
   ]
  },
  {
   "cell_type": "code",
   "execution_count": null,
   "metadata": {},
   "outputs": [],
   "source": [
    "# Import required libraries\n",
    "import torch\n",
    "import numpy as np\n",
    "import matplotlib.pyplot as plt\n",
    "import seaborn as sns\n",
    "import pandas as pd\n",
    "from sbi.inference import SNPE\n",
    "from sbi.utils import BoxUniform"
   ]
  },
  {
   "cell_type": "markdown",
   "metadata": {},
   "source": [
    "### Setup Prior and Inference Method \n",
    "### Define parameter ranges and initialize SBI framework"
   ]
  },
  {
   "cell_type": "code",
   "execution_count": 3,
   "metadata": {},
   "outputs": [],
   "source": [
    "# Define the prior range for the parameters\n",
    "redshift_range = (redshift.min(), redshift.max())\n",
    "\n",
    "# Setup prior distribution\n",
    "prior = BoxUniform(\n",
    "    low=torch.tensor([redshift_range[0]]),  # inferior limit for redshift\n",
    "    high=torch.tensor([redshift_range[1]])  # superior limit for redshift\n",
    ")\n",
    "\n",
    "# Inizialized the inference method\n",
    "inference_method = SNPE(prior=prior)\n"
   ]
  },
  {
   "cell_type": "markdown",
   "metadata": {},
   "source": [
    "### Generate Training and Validation Data"
   ]
  },
  {
   "cell_type": "code",
   "execution_count": null,
   "metadata": {},
   "outputs": [],
   "source": [
    "from sklearn.model_selection import train_test_split\n",
    "\n",
    "# split the data into training and validation sets\n",
    "spectra_train, spectra_test, redshift_train, redshift_test = train_test_split(\n",
    "    spectra,     \n",
    "    redshift,        \n",
    "    test_size=0.2,  \n",
    "    random_state=42,  \n",
    "    shuffle=True  \n",
    ")\n",
    "\n",
    "# Convert the training and test redshift data to float32 and then to torch tensors\n",
    "redshift_train = redshift_train.astype(np.float32)\n",
    "redshift_train_torch = torch.from_numpy(redshift_train)\n",
    "spectra_train = spectra_train.astype(np.float32)\n",
    "spectra_train_torch = torch.from_numpy(spectra_train)\n",
    "\n",
    "redshift_test = redshift_test.astype(np.float32)\n",
    "redshift_test_torch = torch.from_numpy(redshift_test)\n",
    "spectra_test = spectra_test.astype(np.float32)\n",
    "spectra_test_torch = torch.from_numpy(spectra_test)\n",
    "\n",
    "# Create tensors for the training and test data\n",
    "redshift_train_tensor = torch.tensor(redshift_train_torch, dtype=torch.float32)\n",
    "spectra_train_tensor = torch.tensor(spectra_train_torch, dtype=torch.float32)\n",
    "spectra_test_tensor = torch.tensor(spectra_test_torch, dtype=torch.float32)\n",
    "redshift_test_tensor = torch.tensor(redshift_test_torch, dtype=torch.float32)"
   ]
  },
  {
   "cell_type": "markdown",
   "metadata": {},
   "source": [
    "### Train Neural Density Estimator"
   ]
  },
  {
   "cell_type": "code",
   "execution_count": null,
   "metadata": {},
   "outputs": [],
   "source": [
    "# train the neural density estimator\n",
    "density_estimator = inference_method.append_simulations(\n",
    "    redshift_train_tensor, spectra_train_tensor\n",
    ").train(\n",
    "    validation_fraction=0.2,\n",
    "    max_num_epochs=100,\n",
    "    stop_after_epochs=20\n",
    ")\n",
    "\n",
    "# Build the posterior\n",
    "posterior = inference_method.build_posterior(density_estimator)"
   ]
  },
  {
   "cell_type": "markdown",
   "metadata": {},
   "source": [
    "### Perform Inference on a Single Test Case"
   ]
  },
  {
   "cell_type": "code",
   "execution_count": null,
   "metadata": {},
   "outputs": [],
   "source": [
    "# Select a random spectrum from the validation set for the single test\n",
    "random_idx = np.random.randint(0, len(spectra_test_tensor))\n",
    "observed_spectrum = spectra_test_tensor[random_idx]\n",
    "true_redshift = redshift_test_tensor[random_idx].item()  # Convert to float for printing\n",
    "\n",
    "# Perform inference (sample from the posterior for the observed spectrum)\n",
    "n_samples = 1000\n",
    "# If necessary, ensure that observed_spectrum is 2D\n",
    "if observed_spectrum.dim() == 1:\n",
    "    observed_spectrum = observed_spectrum.unsqueeze(0)  # Add a dimension if required\n",
    "\n",
    "posterior_samples = posterior.sample((n_samples,), x=observed_spectrum)\n",
    "\n",
    "# Display the results\n",
    "posterior_mean = posterior_samples.mean().item()\n",
    "posterior_std = posterior_samples.std().item()\n",
    "\n",
    "print(f\"\\nSingle Test Case Results:\")\n",
    "print(\"--------------------------\")\n",
    "print(f\"True Redshift: {true_redshift:.3f}\")\n",
    "print(f\"Posterior Mean: {posterior_mean:.3f}\")\n",
    "print(f\"Posterior Std: {posterior_std:.3f}\")\n",
    "\n",
    "\"\"\"\n",
    "Visualize Posterior Distribution for Single Test\n",
    "\"\"\"\n",
    "# Visualize the posterior distribution for the single test\n",
    "# full range of redshift\n",
    "plt.figure(figsize=(8, 4))\n",
    "sns.histplot(posterior_samples.numpy(), kde=True, bins=30, edgecolor=None)\n",
    "plt.axvline(true_redshift, color='red', linestyle='--', label='True Redshift')\n",
    "plt.xlabel('Redshift')\n",
    "plt.title('Posterior Distribution - Single Test Case')\n",
    "plt.legend()\n",
    "plt.xlim(redshift.min(), redshift.max())\n",
    "plt.show()\n",
    "\n",
    "# Visualize the posterior distribution for the single test\n",
    "# zoom in on the range of redshift\n",
    "plt.figure(figsize=(8, 4))\n",
    "sns.histplot(posterior_samples.numpy(), kde=True, bins=30, edgecolor=None)\n",
    "plt.axvline(true_redshift, color='red', linestyle='--', label='True Redshift')\n",
    "plt.xlabel('Redshift')\n",
    "plt.title('Posterior Distribution - Single Test Case')\n",
    "plt.legend()\n"
   ]
  },
  {
   "cell_type": "code",
   "execution_count": null,
   "metadata": {},
   "outputs": [],
   "source": [
    "redshift.max()"
   ]
  },
  {
   "cell_type": "markdown",
   "metadata": {},
   "source": [
    "### Global Test Set Evaluation"
   ]
  },
  {
   "cell_type": "code",
   "execution_count": null,
   "metadata": {},
   "outputs": [],
   "source": [
    "posterior_means = []\n",
    "posterior_stds = []\n",
    "predicted_redshifts = []\n",
    "\n",
    "# Perform inference for 100 examples of the test set\n",
    "for i in range(min(100, len(spectra_test))):\n",
    "    # Perform inference (sample from the posterior for the observed spectrum)\n",
    "    posterior_samples_test = posterior.sample((n_samples,), x=spectra_test[i])\n",
    "    \n",
    "    # get the mean of the posterior samples\n",
    "    pdf_mean = posterior_samples_test.mean().item()  \n",
    "    \n",
    "    # Appendi i risultati\n",
    "    posterior_means.append(posterior_samples_test.mean().item())\n",
    "    posterior_stds.append(posterior_samples_test.std().item())\n",
    "    predicted_redshifts.append(pdf_mean)\n",
    "\n",
    "# Convert the lists to numpy arrays\n",
    "predicted_redshifts = np.array(predicted_redshifts)\n",
    "true_redshifts = redshift_test[:len(predicted_redshifts)]  \n",
    "\n",
    "# visualize the predicted redshifts vs the true redshifts\n",
    "plt.figure(figsize=(8, 6))\n",
    "plt.scatter(true_redshifts, predicted_redshifts, alpha=0.7, label='Predicted vs True')\n",
    "plt.plot([true_redshifts.min(), true_redshifts.max()], [true_redshifts.min(), true_redshifts.max()], 'r--', label='Ideal Fit')\n",
    "plt.xlabel('True Redshift')\n",
    "plt.ylabel('Predicted Redshift')\n",
    "plt.title('Predicted Redshift vs True Redshift')\n",
    "plt.legend()\n",
    "plt.grid(True)\n",
    "plt.show()\n",
    "\n",
    "# print the global test set performance\n",
    "absolute_errors = np.abs(predicted_redshifts - true_redshifts)\n",
    "mae = np.mean(absolute_errors)\n",
    "print(f\"\\nGlobal Test Set Performance:\")\n",
    "print(f\"Mean Absolute Error (MAE): {mae:.3f}\")\n"
   ]
  },
  {
   "cell_type": "code",
   "execution_count": null,
   "metadata": {},
   "outputs": [],
   "source": [
    "redshift_test"
   ]
  },
  {
   "cell_type": "code",
   "execution_count": null,
   "metadata": {},
   "outputs": [],
   "source": [
    "spectra_train_tensor"
   ]
  }
 ],
 "metadata": {
  "kernelspec": {
   "display_name": "sbi_env",
   "language": "python",
   "name": "python3"
  },
  "language_info": {
   "codemirror_mode": {
    "name": "ipython",
    "version": 3
   },
   "file_extension": ".py",
   "mimetype": "text/x-python",
   "name": "python",
   "nbconvert_exporter": "python",
   "pygments_lexer": "ipython3",
   "version": "3.9.20"
  }
 },
 "nbformat": 4,
 "nbformat_minor": 2
}
